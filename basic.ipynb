{
  "cells": [
    {
      "cell_type": "code",
      "execution_count": null,
      "id": "thermal-amateur",
      "metadata": {
        "id": "thermal-amateur"
      },
      "outputs": [],
      "source": [
        "import numpy as np\n",
        "import pandas as pd\n",
        "from PIL import Image"
      ]
    },
    {
      "cell_type": "code",
      "execution_count": null,
      "id": "appreciated-penetration",
      "metadata": {
        "colab": {
          "base_uri": "https://localhost:8080/"
        },
        "id": "appreciated-penetration",
        "outputId": "a3b8d2b1-bf91-458c-c45f-3fcf2b130c4d"
      },
      "outputs": [
        {
          "name": "stdout",
          "output_type": "stream",
          "text": [
            "Mounted at /content/drive\n"
          ]
        }
      ],
      "source": [
        "from google.colab import drive\n",
        "drive.mount('/content/drive')"
      ]
    },
    {
      "cell_type": "code",
      "execution_count": null,
      "id": "accepted-italic",
      "metadata": {
        "id": "accepted-italic"
      },
      "outputs": [],
      "source": [
        "!unzip /content/drive/MyDrive/HW4_data.zip # FILE PATH"
      ]
    },
    {
      "cell_type": "code",
      "execution_count": null,
      "id": "healthy-filing",
      "metadata": {
        "id": "healthy-filing"
      },
      "outputs": [],
      "source": [
        "df_train = pd.read_csv(\"HW4_data/public/train_label.csv\", index_col=0)"
      ]
    },
    {
      "cell_type": "code",
      "execution_count": null,
      "id": "protective-logan",
      "metadata": {
        "id": "protective-logan"
      },
      "outputs": [],
      "source": [
        "df_val = pd.read_csv(\"HW4_data/public/val_label.csv\", index_col=0)"
      ]
    },
    {
      "cell_type": "code",
      "execution_count": null,
      "id": "killing-final",
      "metadata": {
        "colab": {
          "base_uri": "https://localhost:8080/"
        },
        "id": "killing-final",
        "outputId": "ae5c5333-d78e-4e4e-d7ef-34ce8872d64b"
      },
      "outputs": [
        {
          "name": "stdout",
          "output_type": "stream",
          "text": [
            "/content/HW4_data\n",
            "/content/HW4_data/train\n",
            "/content/HW4_data/valid\n"
          ]
        }
      ],
      "source": [
        "# file \"train\" with \"Edema\" and \"non Edema\"\n",
        "import os\n",
        "os.chdir(\"/content/HW4_data\")\n",
        "print(os.getcwd())\n",
        "os.mkdir(\"train\")\n",
        "os.mkdir(\"valid\")\n",
        "\n",
        "os.chdir(\"/content/HW4_data/train\")\n",
        "print(os.getcwd())\n",
        "os.mkdir(\"Edema\")\n",
        "os.mkdir(\"non Edema\")\n",
        "\n",
        "os.chdir(\"/content/HW4_data/valid\")\n",
        "print(os.getcwd())\n",
        "os.mkdir(\"Edema\")\n",
        "os.mkdir(\"non Edema\")"
      ]
    },
    {
      "cell_type": "code",
      "execution_count": null,
      "id": "BrLoF6vSo2U2",
      "metadata": {
        "id": "BrLoF6vSo2U2"
      },
      "outputs": [],
      "source": [
        "from shutil import copy\n",
        "# classify .csv \n",
        "for i in range(10000):\n",
        "  from_path = \"/content/HW4_data/public/train_\"+str(i)+\".jpg\"\n",
        "  if df_train['Edema'][i] == 0:\n",
        "   copy(from_path, \"/content/HW4_data/train/non Edema\")\n",
        "  elif df_train['Edema'][i] == 1:\n",
        "   copy(from_path, \"/content/HW4_data/train/Edema\")"
      ]
    },
    {
      "cell_type": "code",
      "execution_count": null,
      "id": "wo7p41oJpEf4",
      "metadata": {
        "id": "wo7p41oJpEf4"
      },
      "outputs": [],
      "source": [
        "for i in range(1000):\n",
        "  from_path = \"/content/HW4_data/public/val_\"+str(i)+\".jpg\"\n",
        "  if df_val['Edema'][i] == 0:\n",
        "    copy(from_path, \"/content/HW4_data/valid/non Edema\")\n",
        "  elif df_val['Edema'][i] == 1:\n",
        "    copy(from_path, \"/content/HW4_data/valid/Edema\")"
      ]
    },
    {
      "cell_type": "code",
      "execution_count": null,
      "id": "dKbYqqcbpF8b",
      "metadata": {
        "id": "dKbYqqcbpF8b"
      },
      "outputs": [],
      "source": [
        "# Directory with our training dandelion pictures\n",
        "train_edema_dir = os.path.join('/content/HW4_data/train/Edema')\n",
        "\n",
        "# Directory with our training grass pictures\n",
        "train_non_edema_dir = os.path.join('/content/HW4_data/train/non Edema')\n",
        "\n",
        "# Directory with our validation dandelion pictures\n",
        "valid_edema_dir = os.path.join('/content/HW4_data/valid/Edema')\n",
        "\n",
        "# Directory with our validation grass pictures\n",
        "valid_non_edema_dir = os.path.join('/content/HW4_data/valid/non Edema')"
      ]
    },
    {
      "cell_type": "code",
      "execution_count": null,
      "id": "3qdOjizZpIHL",
      "metadata": {
        "id": "3qdOjizZpIHL"
      },
      "outputs": [],
      "source": [
        "train_edema_names = os.listdir(train_edema_dir)\n",
        "train_non_edema_names = os.listdir(train_non_edema_dir)\n",
        "validation_edema_hames = os.listdir(valid_edema_dir)\n",
        "validation_non_edema_names = os.listdir(valid_non_edema_dir)"
      ]
    },
    {
      "cell_type": "code",
      "execution_count": null,
      "id": "90t6SAp0pK9F",
      "metadata": {
        "id": "90t6SAp0pK9F"
      },
      "outputs": [],
      "source": [
        "# print('total training edema images:', len(os.listdir(train_edema_dir)))\n",
        "# print('total training non edema images:', len(os.listdir(train_non_edema_dir)))\n",
        "# print('total validation edema images:', len(os.listdir(valid_edema_dir)))\n",
        "# print('total validation non edema images:', len(os.listdir(valid_non_edema_dir)))"
      ]
    },
    {
      "cell_type": "code",
      "execution_count": null,
      "id": "PsgOPKMfpMti",
      "metadata": {
        "colab": {
          "base_uri": "https://localhost:8080/"
        },
        "id": "PsgOPKMfpMti",
        "outputId": "f8c255ae-6962-4e58-a159-cd907f544936"
      },
      "outputs": [
        {
          "name": "stdout",
          "output_type": "stream",
          "text": [
            "Found 10000 images belonging to 2 classes.\n",
            "Found 1000 images belonging to 2 classes.\n"
          ]
        }
      ],
      "source": [
        "from tensorflow.keras.preprocessing.image import ImageDataGenerator\n",
        "\n",
        "# All images will be rescaled by 1./255\n",
        "train_datagen = ImageDataGenerator(rescale=1/255)\n",
        "validation_datagen = ImageDataGenerator(rescale=1/255)\n",
        "\n",
        "# Flow training images in batches of 120 using train_datagen generator\n",
        "train_generator = train_datagen.flow_from_directory(\n",
        "        directory= \"/content/HW4_data/train\" ,  # This is the source directory for training images\n",
        "        target_size=(128, 128),  # All images will be resized to 128X128\n",
        "        batch_size=120,\n",
        "        class_mode='binary')\n",
        "\n",
        "# Flow validation images in batches of 19 using valid_datagen generator\n",
        "validation_generator = validation_datagen.flow_from_directory(\n",
        "        directory = \"/content/HW4_data/valid\",  # This is the source directory for validation images\n",
        "        # classes = ['edema', 'non edema'],\n",
        "        target_size=(128, 128),  # All images will be resized to 128x128\n",
        "        batch_size=19,\n",
        "        class_mode='binary',\n",
        "        shuffle=False)"
      ]
    },
    {
      "cell_type": "code",
      "execution_count": null,
      "id": "aTFpds8rpZzw",
      "metadata": {
        "id": "aTFpds8rpZzw"
      },
      "outputs": [],
      "source": [
        "import tensorflow as tf\n",
        "model = tf.keras.models.Sequential([tf.keras.layers.Flatten(input_shape = (128,128,3)), \n",
        "                                    tf.keras.layers.Dense(128, activation=tf.nn.relu), \n",
        "                                    tf.keras.layers.Dense(1, activation=tf.nn.sigmoid)])"
      ]
    },
    {
      "cell_type": "code",
      "execution_count": null,
      "id": "4_Of6JbJpcpJ",
      "metadata": {
        "colab": {
          "base_uri": "https://localhost:8080/"
        },
        "id": "4_Of6JbJpcpJ",
        "outputId": "6009a905-0808-48af-a9a4-a21bc25b56bf"
      },
      "outputs": [
        {
          "name": "stdout",
          "output_type": "stream",
          "text": [
            "Model: \"sequential\"\n",
            "_________________________________________________________________\n",
            " Layer (type)                Output Shape              Param #   \n",
            "=================================================================\n",
            " flatten (Flatten)           (None, 49152)             0         \n",
            "                                                                 \n",
            " dense (Dense)               (None, 128)               6291584   \n",
            "                                                                 \n",
            " dense_1 (Dense)             (None, 1)                 129       \n",
            "                                                                 \n",
            "=================================================================\n",
            "Total params: 6,291,713\n",
            "Trainable params: 6,291,713\n",
            "Non-trainable params: 0\n",
            "_________________________________________________________________\n"
          ]
        }
      ],
      "source": [
        "model.summary()"
      ]
    },
    {
      "cell_type": "code",
      "execution_count": null,
      "id": "9P6eMrz8pmBG",
      "metadata": {
        "id": "9P6eMrz8pmBG"
      },
      "outputs": [],
      "source": [
        "model.compile(optimizer = tf.optimizers.Adam(),\n",
        "              loss = 'binary_crossentropy',\n",
        "              metrics=['accuracy'])"
      ]
    },
    {
      "cell_type": "code",
      "execution_count": null,
      "id": "DJ02vjrspnu9",
      "metadata": {
        "id": "DJ02vjrspnu9"
      },
      "outputs": [],
      "source": [
        "history = model.fit(train_generator,\n",
        "      steps_per_epoch=8,  \n",
        "      epochs=36,\n",
        "      verbose=1,\n",
        "      validation_data = validation_generator,\n",
        "      validation_steps=8)"
      ]
    },
    {
      "cell_type": "code",
      "execution_count": null,
      "id": "G3TDkk8tpp2W",
      "metadata": {
        "colab": {
          "base_uri": "https://localhost:8080/"
        },
        "id": "G3TDkk8tpp2W",
        "outputId": "b47a9e64-1463-4da4-f529-1521a98e2a04"
      },
      "outputs": [
        {
          "name": "stdout",
          "output_type": "stream",
          "text": [
            "53/53 [==============================] - 2s 31ms/step - loss: 0.4305 - accuracy: 0.7900\n"
          ]
        },
        {
          "data": {
            "text/plain": [
              "[0.4304942786693573, 0.7900000214576721]"
            ]
          },
          "execution_count": 21,
          "metadata": {},
          "output_type": "execute_result"
        }
      ],
      "source": [
        "model.evaluate(validation_generator)"
      ]
    },
    {
      "cell_type": "code",
      "execution_count": null,
      "id": "piuKMOjOqBRa",
      "metadata": {
        "id": "piuKMOjOqBRa"
      },
      "outputs": [],
      "source": [
        "import csv\n",
        "output_dataroot ='STUDENTID_basic_prediction.csv' \n",
        "output_datalist =  ['','Edema'] \n",
        "\n",
        "from keras.preprocessing import image\n",
        "import matplotlib.pyplot as plt\n",
        "for fn in range(1500):\n",
        " \n",
        "  # predicting images\n",
        "  path =\"/content/HW4_data/private/test_\"+str(fn)+\".jpg\" \n",
        "  img = image.load_img(path, target_size=(128, 128))\n",
        "  x = image.img_to_array(img)\n",
        "  x = np.expand_dims(x, axis=0)\n",
        "  images = np.vstack([x])\n",
        "  classes = model.predict(images, batch_size=10)\n",
        "\n",
        "  if classes[0]<0.5:\n",
        "    tmp = np.array([i,0])\n",
        "    output_datalist = np.vstack((output_datalist,tmp))\n",
        "  else:\n",
        "    tmp = np.array([i,1])\n",
        "    output_datalist = np.vstack((output_datalist,tmp))\n"
      ]
    },
    {
      "cell_type": "code",
      "execution_count": null,
      "id": "QQrIro9WqSqS",
      "metadata": {
        "colab": {
          "base_uri": "https://localhost:8080/"
        },
        "id": "QQrIro9WqSqS",
        "outputId": "fb342311-ce33-4ced-9709-c7238196d1df"
      },
      "outputs": [
        {
          "name": "stdout",
          "output_type": "stream",
          "text": [
            "/content/HW4_data\n"
          ]
        }
      ],
      "source": [
        "os.chdir(\"/content/HW4_data\")\n",
        "print(os.getcwd())\n",
        "\n",
        "# Write prediction to output csv\n",
        "with open(output_dataroot, 'w', newline='', encoding=\"utf-8\") as csvfile:\n",
        "    writer = csv.writer(csvfile)\n",
        "    for row in output_datalist:\n",
        "        writer.writerow(row)"
      ]
    }
  ],
  "metadata": {
    "colab": {
      "collapsed_sections": [],
      "name": "basic",
      "provenance": []
    },
    "kernelspec": {
      "display_name": "Python 3",
      "language": "python",
      "name": "python3"
    },
    "language_info": {
      "codemirror_mode": {
        "name": "ipython",
        "version": 3
      },
      "file_extension": ".py",
      "mimetype": "text/x-python",
      "name": "python",
      "nbconvert_exporter": "python",
      "pygments_lexer": "ipython3",
      "version": "3.7.10"
    }
  },
  "nbformat": 4,
  "nbformat_minor": 5
}
